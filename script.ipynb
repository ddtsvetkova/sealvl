{
 "cells": [
  {
   "cell_type": "markdown",
   "metadata": {
    "datalore": {
     "sheet_delimiter": false,
     "type": "MD"
    },
    "jupyter": {
     "outputs_hidden": false,
     "source_hidden": false
    }
   },
   "source": [
    "# Appendix B."
   ]
  },
  {
   "cell_type": "code",
   "execution_count": 1,
   "metadata": {
    "datalore": {
     "sheet_delimiter": false,
     "type": "CODE"
    },
    "jupyter": {
     "outputs_hidden": false,
     "source_hidden": false
    }
   },
   "outputs": [],
   "source": [
    "# Importing the libraries\n",
    "import numpy as np\n",
    "import pandas as pd\n",
    "\n",
    "import matplotlib\n",
    "import matplotlib.pyplot as plt\n",
    "matplotlib.style.use('ggplot')\n",
    "%matplotlib inline\n",
    "import seaborn as sns\n",
    "sns.set_theme()\n",
    "\n",
    "from statsmodels.tsa.stattools import acf, pacf, adfuller, kpss\n",
    "from statsmodels.graphics.tsaplots import plot_acf, plot_pacf\n",
    "from statsmodels.tsa.arima.model import ARIMA\n",
    "\n",
    "import warnings\n",
    "warnings.filterwarnings('ignore')"
   ]
  },
  {
   "cell_type": "code",
   "execution_count": 2,
   "metadata": {
    "datalore": {
     "sheet_delimiter": false,
     "type": "CODE"
    },
    "jupyter": {
     "outputs_hidden": false,
     "source_hidden": false
    }
   },
   "outputs": [
    {
     "data": {
      "text/html": [
       "<div>\n",
       "<style scoped>\n",
       "    .dataframe tbody tr th:only-of-type {\n",
       "        vertical-align: middle;\n",
       "    }\n",
       "\n",
       "    .dataframe tbody tr th {\n",
       "        vertical-align: top;\n",
       "    }\n",
       "\n",
       "    .dataframe thead th {\n",
       "        text-align: right;\n",
       "    }\n",
       "</style>\n",
       "<table border=\"1\" class=\"dataframe\">\n",
       "  <thead>\n",
       "    <tr style=\"text-align: right;\">\n",
       "      <th></th>\n",
       "      <th>Entity</th>\n",
       "      <th>Code</th>\n",
       "      <th>Day</th>\n",
       "      <th>sea_level_rise_average</th>\n",
       "      <th>sea_level_rise_cw2011</th>\n",
       "      <th>sea_level_rise_uhslcfd</th>\n",
       "    </tr>\n",
       "  </thead>\n",
       "  <tbody>\n",
       "    <tr>\n",
       "      <th>0</th>\n",
       "      <td>World</td>\n",
       "      <td>OWID_WRL</td>\n",
       "      <td>1880-04-15</td>\n",
       "      <td>-183.31406</td>\n",
       "      <td>-183.314063</td>\n",
       "      <td>NaN</td>\n",
       "    </tr>\n",
       "    <tr>\n",
       "      <th>1</th>\n",
       "      <td>World</td>\n",
       "      <td>OWID_WRL</td>\n",
       "      <td>1880-07-15</td>\n",
       "      <td>-183.24740</td>\n",
       "      <td>-183.247396</td>\n",
       "      <td>NaN</td>\n",
       "    </tr>\n",
       "    <tr>\n",
       "      <th>2</th>\n",
       "      <td>World</td>\n",
       "      <td>OWID_WRL</td>\n",
       "      <td>1880-10-15</td>\n",
       "      <td>-174.14740</td>\n",
       "      <td>-174.147396</td>\n",
       "      <td>NaN</td>\n",
       "    </tr>\n",
       "    <tr>\n",
       "      <th>3</th>\n",
       "      <td>World</td>\n",
       "      <td>OWID_WRL</td>\n",
       "      <td>1881-01-15</td>\n",
       "      <td>-159.68073</td>\n",
       "      <td>-159.680729</td>\n",
       "      <td>NaN</td>\n",
       "    </tr>\n",
       "    <tr>\n",
       "      <th>4</th>\n",
       "      <td>World</td>\n",
       "      <td>OWID_WRL</td>\n",
       "      <td>1881-04-15</td>\n",
       "      <td>-172.41406</td>\n",
       "      <td>-172.414062</td>\n",
       "      <td>NaN</td>\n",
       "    </tr>\n",
       "  </tbody>\n",
       "</table>\n",
       "</div>"
      ]
     },
     "metadata": {},
     "output_type": "display_data"
    }
   ],
   "source": [
    "# Reading the csv and converting the column \"Day\" to dates\n",
    "data = pd.read_csv('sea-level-rise.csv')\n",
    "data['Day'] = pd.to_datetime(data['Day'])\n",
    "data.head()"
   ]
  },
  {
   "cell_type": "code",
   "execution_count": 3,
   "metadata": {
    "datalore": {
     "sheet_delimiter": false,
     "type": "CODE"
    },
    "jupyter": {
     "outputs_hidden": false,
     "source_hidden": false
    }
   },
   "outputs": [
    {
     "data": {
      "text/html": [
       "<div>\n",
       "<style scoped>\n",
       "    .dataframe tbody tr th:only-of-type {\n",
       "        vertical-align: middle;\n",
       "    }\n",
       "\n",
       "    .dataframe tbody tr th {\n",
       "        vertical-align: top;\n",
       "    }\n",
       "\n",
       "    .dataframe thead th {\n",
       "        text-align: right;\n",
       "    }\n",
       "</style>\n",
       "<table border=\"1\" class=\"dataframe\">\n",
       "  <thead>\n",
       "    <tr style=\"text-align: right;\">\n",
       "      <th></th>\n",
       "      <th>Day</th>\n",
       "      <th>sea_level_rise_uhslcfd</th>\n",
       "      <th>sea_level_rise_average</th>\n",
       "    </tr>\n",
       "  </thead>\n",
       "  <tbody>\n",
       "    <tr>\n",
       "      <th>0</th>\n",
       "      <td>1880-04-15</td>\n",
       "      <td>NaN</td>\n",
       "      <td>-183.31406</td>\n",
       "    </tr>\n",
       "    <tr>\n",
       "      <th>1</th>\n",
       "      <td>1880-07-15</td>\n",
       "      <td>NaN</td>\n",
       "      <td>-183.24740</td>\n",
       "    </tr>\n",
       "    <tr>\n",
       "      <th>2</th>\n",
       "      <td>1880-10-15</td>\n",
       "      <td>NaN</td>\n",
       "      <td>-174.14740</td>\n",
       "    </tr>\n",
       "    <tr>\n",
       "      <th>3</th>\n",
       "      <td>1881-01-15</td>\n",
       "      <td>NaN</td>\n",
       "      <td>-159.68073</td>\n",
       "    </tr>\n",
       "    <tr>\n",
       "      <th>4</th>\n",
       "      <td>1881-04-15</td>\n",
       "      <td>NaN</td>\n",
       "      <td>-172.41406</td>\n",
       "    </tr>\n",
       "  </tbody>\n",
       "</table>\n",
       "</div>"
      ]
     },
     "metadata": {},
     "output_type": "display_data"
    }
   ],
   "source": [
    "# Leaving the necessary columns only\n",
    "# UHSLCFD stands for University of Hawaii Sea Level Center Fast Delivery\n",
    "df = data[[\"Day\", \"sea_level_rise_uhslcfd\", \"sea_level_rise_average\"]]\n",
    "df.head()"
   ]
  },
  {
   "cell_type": "code",
   "execution_count": 4,
   "metadata": {
    "datalore": {
     "sheet_delimiter": false,
     "type": "CODE"
    },
    "jupyter": {
     "outputs_hidden": false,
     "source_hidden": false
    }
   },
   "outputs": [
    {
     "data": {
      "text/html": [
       "<div>\n",
       "<style scoped>\n",
       "    .dataframe tbody tr th:only-of-type {\n",
       "        vertical-align: middle;\n",
       "    }\n",
       "\n",
       "    .dataframe tbody tr th {\n",
       "        vertical-align: top;\n",
       "    }\n",
       "\n",
       "    .dataframe thead th {\n",
       "        text-align: right;\n",
       "    }\n",
       "</style>\n",
       "<table border=\"1\" class=\"dataframe\">\n",
       "  <thead>\n",
       "    <tr style=\"text-align: right;\">\n",
       "      <th></th>\n",
       "      <th>sea_level_rise_uhslcfd</th>\n",
       "      <th>sea_level_rise_average</th>\n",
       "    </tr>\n",
       "    <tr>\n",
       "      <th>Day</th>\n",
       "      <th></th>\n",
       "      <th></th>\n",
       "    </tr>\n",
       "  </thead>\n",
       "  <tbody>\n",
       "    <tr>\n",
       "      <th>1880-04-15</th>\n",
       "      <td>NaN</td>\n",
       "      <td>-183.31406</td>\n",
       "    </tr>\n",
       "    <tr>\n",
       "      <th>1880-07-15</th>\n",
       "      <td>NaN</td>\n",
       "      <td>-183.24740</td>\n",
       "    </tr>\n",
       "    <tr>\n",
       "      <th>1880-10-15</th>\n",
       "      <td>NaN</td>\n",
       "      <td>-174.14740</td>\n",
       "    </tr>\n",
       "    <tr>\n",
       "      <th>1881-01-15</th>\n",
       "      <td>NaN</td>\n",
       "      <td>-159.68073</td>\n",
       "    </tr>\n",
       "    <tr>\n",
       "      <th>1881-04-15</th>\n",
       "      <td>NaN</td>\n",
       "      <td>-172.41406</td>\n",
       "    </tr>\n",
       "  </tbody>\n",
       "</table>\n",
       "</div>"
      ]
     },
     "metadata": {},
     "output_type": "display_data"
    }
   ],
   "source": [
    "# Setting dates as index\n",
    "df.set_index('Day', inplace=True)\n",
    "df.head()"
   ]
  },
  {
   "cell_type": "code",
   "execution_count": 5,
   "metadata": {
    "datalore": {
     "sheet_delimiter": false,
     "type": "CODE"
    },
    "jupyter": {
     "outputs_hidden": false,
     "source_hidden": false
    }
   },
   "outputs": [
    {
     "data": {
      "image/png": "[encoded data removed]"
     },
     "metadata": {
      "image/png": {}
     },
     "output_type": "display_data"
    }
   ],
   "source": [
    "# Plotting the average of the Church & White and the University of Hawaii datasets\n",
    "ax = df[[\"sea_level_rise_average\"]].plot(legend=None, figsize=(10,7.5), label=\"Average\")\n",
    "plt.plot(df[[\"sea_level_rise_uhslcfd\"]], \"red\", label=\"University of Hawaii\")\n",
    "plt.xlabel(\"Date\")\n",
    "ax.tick_params(axis='both', which='major', labelsize=12)\n",
    "ax.axhline(0, linestyle='--', color='k')\n",
    "ax.legend([\"Average\", \"University of Hawaii\"])\n",
    "plt.show()"
   ]
  },
  {
   "cell_type": "code",
   "execution_count": 6,
   "metadata": {
    "datalore": {
     "sheet_delimiter": false,
     "type": "CODE"
    },
    "jupyter": {
     "outputs_hidden": false,
     "source_hidden": false
    }
   },
   "outputs": [
    {
     "data": {
      "image/png": "[encoded data removed]"
     },
     "metadata": {
      "image/png": {}
     },
     "output_type": "display_data"
    }
   ],
   "source": [
    "# Plotting the series\n",
    "ax = df[[\"sea_level_rise_uhslcfd\"]].plot(legend=None, figsize=(10,7.5))\n",
    "plt.xlabel(\"Date\")\n",
    "ax.tick_params(axis='both', which='major', labelsize=12)\n",
    "ax.axhline(0, linestyle='--', color='k')\n",
    "plt.show()"
   ]
  },
  {
   "cell_type": "code",
   "execution_count": 7,
   "metadata": {
    "datalore": {
     "sheet_delimiter": false,
     "type": "CODE"
    },
    "jupyter": {
     "outputs_hidden": false,
     "source_hidden": false
    }
   },
   "outputs": [
    {
     "data": {
      "image/png": "[encoded data removed]"
     },
     "metadata": {
      "image/png": {}
     },
     "output_type": "display_data"
    }
   ],
   "source": [
    "# Differencing to remove linear trend\n",
    "df[\"diff\"] = df[[\"sea_level_rise_uhslcfd\"]].diff()\n",
    "\n",
    "# Plotting the first difference\n",
    "ax = df[\"diff\"].plot(legend=None, figsize=(10,7.5))\n",
    "plt.xlabel(\"Date\")\n",
    "plt.ylim(-15, 15)\n",
    "ax.tick_params(axis='both', which='major', labelsize=12)\n",
    "ax.axhline(0, linestyle='--', color='k')\n",
    "plt.show()"
   ]
  },
  {
   "cell_type": "code",
   "execution_count": 9,
   "metadata": {
    "datalore": {
     "sheet_delimiter": false,
     "type": "CODE"
    },
    "jupyter": {
     "outputs_hidden": false,
     "source_hidden": false
    }
   },
   "outputs": [
    {
     "data": {
      "image/png": "[encoded data removed]"
     },
     "metadata": {
      "image/png": {}
     },
     "output_type": "display_data"
    }
   ],
   "source": [
    "# Plotting the ACF and PACF\n",
    "fig, axs = plt.subplots(2, figsize=(10,7.5), sharex=True)\n",
    "plot_acf(df[\"diff\"].dropna(), lags=40, ax=axs[0], alpha=None, zero=False, title=\"ACF\")\n",
    "plot_pacf(df[\"diff\"].dropna(), lags=40, ax=axs[1], alpha=None, zero=False, title=\"PACF\")\n",
    "axs[0].set_ylim(-0.6, 0.6)\n",
    "axs[0].set_xticks([0, 5, 10, 15, 20, 25, 30, 35, 40])\n",
    "axs[1].set_ylim(-0.6, 0.6)\n",
    "axs[0].set_title(\"ACF\", fontdict = {'fontsize': 16})\n",
    "axs[1].set_title(\"PACF\", fontdict = {'fontsize': 16})\n",
    "\n",
    "# \"Confidence intervals\" computed as done in EViews\n",
    "axs[0].axhline(y=-1.96/np.sqrt(len(df[\"diff\"].dropna())),linestyle='--',color='gray')\n",
    "axs[0].axhline(y=1.96/np.sqrt(len(df[\"diff\"].dropna())),linestyle='--',color='gray')\n",
    "axs[1].axhline(y=-1.96/np.sqrt(len(df[\"diff\"].dropna())),linestyle='--',color='gray')\n",
    "axs[1].axhline(y=1.96/np.sqrt(len(df[\"diff\"].dropna())),linestyle='--',color='gray')\n",
    "\n",
    "axs[0].tick_params(axis='both', which='major', labelsize=12)\n",
    "axs[1].tick_params(axis='both', which='major', labelsize=12)\n",
    "\n",
    "plt.show()"
   ]
  },
  {
   "cell_type": "markdown",
   "metadata": {
    "datalore": {
     "sheet_delimiter": false,
     "type": "MD"
    },
    "jupyter": {
     "outputs_hidden": false,
     "source_hidden": false
    }
   },
   "source": [
    "### Unit Root and Stationarity Tests"
   ]
  },
  {
   "cell_type": "code",
   "execution_count": 10,
   "metadata": {
    "datalore": {
     "sheet_delimiter": false,
     "type": "CODE"
    },
    "jupyter": {
     "outputs_hidden": false,
     "source_hidden": false
    }
   },
   "outputs": [
    {
     "name": "stdout",
     "output_type": "stream",
     "text": [
      "ADF Statistic (no intercept, no trend): -3.400743\n",
      "p-value: 0.000689\n",
      "Critical Values:\n",
      "\t1%: -2.578\n",
      "\t5%: -1.943\n",
      "\t10%: -1.615\n",
      "\n",
      "ADF Statistic (intercept only): -5.211787\n",
      "p-value: 0.000008\n",
      "Critical Values:\n",
      "\t1%: -3.466\n",
      "\t5%: -2.877\n",
      "\t10%: -2.575\n",
      "\n",
      "ADF Statistic (intercept and trend): -5.353105\n",
      "p-value: 0.000045\n",
      "Critical Values:\n",
      "\t1%: -4.008\n",
      "\t5%: -3.434\n",
      "\t10%: -3.141\n"
     ]
    }
   ],
   "source": [
    "# Here AIC is used to choose the number of lags\n",
    "# To use SBC, pass autolag=\"BIC\" into the test (the results are virtually the same)\n",
    "# More on the parameters of the adfuller function: https://www.statsmodels.org/dev/generated/statsmodels.tsa.stattools.adfuller.html\n",
    "\n",
    "# ADF test with no intercept, no trend\n",
    "adfresult_n = adfuller(df[\"diff\"].dropna(), regression=\"n\")\n",
    "print('ADF Statistic (no intercept, no trend): %f' % adfresult_n[0])\n",
    "print('p-value: %f' % adfresult_n[1])\n",
    "print('Critical Values:')\n",
    "for key, value in adfresult_n[4].items():\n",
    "\tprint('\\t%s: %.3f' % (key, value))\n",
    "\n",
    "# ADF test with intercept only\n",
    "adfresult_c = adfuller(df[\"diff\"].dropna(), regression=\"c\")\n",
    "print('\\nADF Statistic (intercept only): %f' % adfresult_c[0])\n",
    "print('p-value: %f' % adfresult_c[1])\n",
    "print('Critical Values:')\n",
    "for key, value in adfresult_c[4].items():\n",
    "\tprint('\\t%s: %.3f' % (key, value))\n",
    "\n",
    "# ADF test with intercept and trend\n",
    "adfresult_ct = adfuller(df[\"diff\"].dropna(), regression=\"ct\")\n",
    "print('\\nADF Statistic (intercept and trend): %f' % adfresult_ct[0])\n",
    "print('p-value: %f' % adfresult_ct[1])\n",
    "print('Critical Values:')\n",
    "for key, value in adfresult_ct[4].items():\n",
    "\tprint('\\t%s: %.3f' % (key, value))"
   ]
  },
  {
   "cell_type": "code",
   "execution_count": 11,
   "metadata": {
    "datalore": {
     "sheet_delimiter": false,
     "type": "CODE"
    },
    "jupyter": {
     "outputs_hidden": false,
     "source_hidden": false
    }
   },
   "outputs": [
    {
     "name": "stdout",
     "output_type": "stream",
     "text": [
      "KPSS Statistic (intercept only): 0.134127\n",
      "Critical Values:\n",
      "\t10%: 0.347\n",
      "\t5%: 0.463\n",
      "\t2.5%: 0.574\n",
      "\t1%: 0.739\n",
      "\n",
      "KPSS Statistic (intercept and trend): 0.063955\n",
      "Critical Values:\n",
      "\t10%: 0.119\n",
      "\t5%: 0.146\n",
      "\t2.5%: 0.176\n",
      "\t1%: 0.216\n"
     ]
    }
   ],
   "source": [
    "# More on the parameters of the kpss function: https://www.statsmodels.org/dev/generated/statsmodels.tsa.stattools.kpss.html\n",
    "\n",
    "# KPSS test with intercept only\n",
    "kpssresult_c = kpss(df[\"diff\"].dropna(), regression=\"c\")\n",
    "print('KPSS Statistic (intercept only): %f' % kpssresult_c[0])\n",
    "print('Critical Values:')\n",
    "for key, value in kpssresult_c[3].items():\n",
    "\tprint('\\t%s: %.3f' % (key, value))\n",
    "\n",
    "# KPSS test with intercept and trend\n",
    "kpssresult_ct = kpss(df[\"diff\"].dropna(), regression=\"ct\")\n",
    "print('\\nKPSS Statistic (intercept and trend): %f' % kpssresult_ct[0])\n",
    "print('Critical Values:')\n",
    "for key, value in kpssresult_ct[3].items():\n",
    "\tprint('\\t%s: %.3f' % (key, value))"
   ]
  },
  {
   "cell_type": "markdown",
   "metadata": {
    "datalore": {
     "sheet_delimiter": false,
     "type": "MD"
    },
    "jupyter": {
     "outputs_hidden": false,
     "source_hidden": false
    }
   },
   "source": [
    "### Univariate linear model identification"
   ]
  },
  {
   "cell_type": "code",
   "execution_count": 12,
   "metadata": {
    "datalore": {
     "sheet_delimiter": false,
     "type": "CODE"
    },
    "jupyter": {
     "outputs_hidden": false,
     "source_hidden": false
    }
   },
   "outputs": [
    {
     "name": "stdout",
     "output_type": "stream",
     "text": [
      "                               SARIMAX Results                                \n",
      "==============================================================================\n",
      "Dep. Variable:                   diff   No. Observations:                  203\n",
      "Model:                 ARIMA(4, 0, 0)   Log Likelihood                -453.289\n",
      "Date:                Sun, 20 Feb 2022   AIC                            918.579\n",
      "Time:                        12:04:55   BIC                            938.458\n",
      "Sample:                    06-30-1970   HQIC                           926.621\n",
      "                         - 12-31-2020                                         \n",
      "Covariance Type:                  opg                                         \n",
      "==============================================================================\n",
      "                 coef    std err          z      P>|z|      [0.025      0.975]\n",
      "------------------------------------------------------------------------------\n",
      "const          0.6088      0.148      4.106      0.000       0.318       0.899\n",
      "ar.L1          0.8343      0.083     10.095      0.000       0.672       0.996\n",
      "ar.L2         -1.0150      0.091    -11.161      0.000      -1.193      -0.837\n",
      "ar.L3          0.4957      0.089      5.583      0.000       0.322       0.670\n",
      "ar.L4         -0.4216      0.062     -6.786      0.000      -0.543      -0.300\n",
      "sigma2         5.0451      0.505      9.984      0.000       4.055       6.036\n",
      "===================================================================================\n",
      "Ljung-Box (L1) (Q):                   1.07   Jarque-Bera (JB):                 1.93\n",
      "Prob(Q):                              0.30   Prob(JB):                         0.38\n",
      "Heteroskedasticity (H):               0.78   Skew:                            -0.19\n",
      "Prob(H) (two-sided):                  0.32   Kurtosis:                         3.28\n",
      "===================================================================================\n",
      "\n",
      "Warnings:\n",
      "[1] Covariance matrix calculated using the outer product of gradients (complex-step).\n"
     ]
    },
    {
     "data": {
      "image/png": "[encoded data removed]",
      "text/plain": [
       "Text(0, 0.5, 'ACF')"
      ]
     },
     "metadata": {
      "image/png": {}
     },
     "output_type": "display_data"
    }
   ],
   "source": [
    "# ARIMA(4,0,0)\n",
    "\n",
    "series = df[[\"diff\"]].dropna() # Getting the target series\n",
    "series.index = series.index.to_period('Q') # Setting quarterly frequency\n",
    "\n",
    "ARIMA4_0_0 = ARIMA(series, order=(4,0,0), trend='c')\n",
    "model_fit = ARIMA4_0_0.fit()\n",
    "\n",
    "# Summary of fit model\n",
    "print(model_fit.summary())\n",
    "\n",
    "# Line plot of residuals\n",
    "residuals = pd.DataFrame(model_fit.resid)\n",
    "residuals.plot(legend=None, figsize=(10,7.5))\n",
    "plt.show()\n",
    "\n",
    "# ACF and PACF of residuals\n",
    "with plt.style.context('seaborn-whitegrid'):\n",
    "    fig, axs = plt.subplots(2, figsize=(7.5,5), sharex='all',)\n",
    "plot_pacf(model_fit.resid, lags=30, ax=axs[1], alpha=None, zero=False, title=None)\n",
    "plot_acf(model_fit.resid, lags=30, ax=axs[0], alpha=None, zero=False, title=None)\n",
    "for a in axs:\n",
    "    a.set_ylim(-0.3, 0.3)\n",
    "    a.set_xticks([0, 5, 10, 15, 20, 25, 30])\n",
    "    a.tick_params(axis='both', which='major', labelsize=12)\n",
    "    a.grid(False)\n",
    "    a.tick_params(axis='both', labelrotation = 90, colors=\"black\")\n",
    "    a.yaxis.label.set_color('black')\n",
    "    # \"Confidence intervals\" computed as done in EViews\n",
    "    a.axhline(y=-1.96/np.sqrt(len(model_fit.resid)),linestyle='--',color='black')\n",
    "    a.axhline(y=1.96/np.sqrt(len(model_fit.resid)),linestyle='--',color='black')\n",
    "\n",
    "\n",
    "axs[0].set_ylabel(\"PACF\", fontdict = {'fontsize': 16})\n",
    "axs[1].set_ylabel(\"ACF\", fontdict = {'fontsize': 16})"
   ]
  },
  {
   "cell_type": "code",
   "execution_count": 13,
   "metadata": {
    "datalore": {
     "sheet_delimiter": false,
     "type": "CODE"
    },
    "jupyter": {
     "outputs_hidden": false,
     "source_hidden": false
    }
   },
   "outputs": [
    {
     "name": "stdout",
     "output_type": "stream",
     "text": [
      "                               SARIMAX Results                                \n",
      "==============================================================================\n",
      "Dep. Variable:                   diff   No. Observations:                  203\n",
      "Model:                 ARIMA(0, 0, 4)   Log Likelihood                -404.649\n",
      "Date:                Sun, 20 Feb 2022   AIC                            821.297\n",
      "Time:                        12:05:04   BIC                            841.177\n",
      "Sample:                    06-30-1970   HQIC                           829.340\n",
      "                         - 12-31-2020                                         \n",
      "Covariance Type:                  opg                                         \n",
      "==============================================================================\n",
      "                 coef    std err          z      P>|z|      [0.025      0.975]\n",
      "------------------------------------------------------------------------------\n",
      "const          0.6063      0.116      5.210      0.000       0.378       0.834\n",
      "ma.L1          1.4176      2.251      0.630      0.529      -2.995       5.830\n",
      "ma.L2         -0.3395      0.967     -0.351      0.726      -2.236       1.557\n",
      "ma.L3         -0.9594      1.735     -0.553      0.580      -4.361       2.442\n",
      "ma.L4         -0.1927      0.438     -0.440      0.660      -1.051       0.666\n",
      "sigma2         2.9487      6.634      0.445      0.657     -10.053      15.950\n",
      "===================================================================================\n",
      "Ljung-Box (L1) (Q):                   0.12   Jarque-Bera (JB):                 1.97\n",
      "Prob(Q):                              0.73   Prob(JB):                         0.37\n",
      "Heteroskedasticity (H):               0.69   Skew:                            -0.21\n",
      "Prob(H) (two-sided):                  0.13   Kurtosis:                         3.24\n",
      "===================================================================================\n",
      "\n",
      "Warnings:\n",
      "[1] Covariance matrix calculated using the outer product of gradients (complex-step).\n"
     ]
    },
    {
     "data": {
      "image/png": "[encoded data removed]",
      "text/plain": [
       "Text(0, 0.5, 'ACF')"
      ]
     },
     "metadata": {
      "image/png": {}
     },
     "output_type": "display_data"
    }
   ],
   "source": [
    "# ARIMA(0,0,4)\n",
    "\n",
    "ARIMA0_0_4 = ARIMA(series, order=(0,0,4), trend='c')\n",
    "model_fit = ARIMA0_0_4.fit()\n",
    "\n",
    "# Summary of fit model\n",
    "print(model_fit.summary())\n",
    "\n",
    "# Line plot of residuals\n",
    "residuals = pd.DataFrame(model_fit.resid)\n",
    "residuals.plot(legend=None, figsize=(10,7.5))\n",
    "plt.show()\n",
    "\n",
    "# ACF and PACF of residuals\n",
    "with plt.style.context('seaborn-whitegrid'):\n",
    "    fig, axs = plt.subplots(2, figsize=(7.5,5), sharex='all',)\n",
    "plot_pacf(model_fit.resid, lags=30, ax=axs[1], alpha=None, zero=False, title=None)\n",
    "plot_acf(model_fit.resid, lags=30, ax=axs[0], alpha=None, zero=False, title=None)\n",
    "for a in axs:\n",
    "    a.set_ylim(-0.3, 0.3)\n",
    "    a.set_xticks([0, 5, 10, 15, 20, 25, 30])\n",
    "    a.tick_params(axis='both', which='major', labelsize=12)\n",
    "    a.grid(False)\n",
    "    a.tick_params(axis='both', labelrotation = 90, colors=\"black\")\n",
    "    a.yaxis.label.set_color('black')\n",
    "    # \"Confidence intervals\" computed as done in EViews\n",
    "    a.axhline(y=-1.96/np.sqrt(len(model_fit.resid)),linestyle='--',color='black')\n",
    "    a.axhline(y=1.96/np.sqrt(len(model_fit.resid)),linestyle='--',color='black')\n",
    "\n",
    "\n",
    "axs[0].set_ylabel(\"PACF\", fontdict = {'fontsize': 16})\n",
    "axs[1].set_ylabel(\"ACF\", fontdict = {'fontsize': 16})\n",
    "\n",
    "\n",
    "# print(f\"Sum of squared residuals {sum(model_fit.resid ** 2)}\")"
   ]
  },
  {
   "cell_type": "code",
   "execution_count": 14,
   "metadata": {
    "datalore": {
     "sheet_delimiter": false,
     "type": "CODE"
    },
    "jupyter": {
     "outputs_hidden": false,
     "source_hidden": false
    }
   },
   "outputs": [
    {
     "name": "stdout",
     "output_type": "stream",
     "text": [
      "                               SARIMAX Results                                \n",
      "==============================================================================\n",
      "Dep. Variable:                   diff   No. Observations:                  203\n",
      "Model:                 ARIMA(2, 0, 4)   Log Likelihood                -401.786\n",
      "Date:                Sun, 20 Feb 2022   AIC                            819.572\n",
      "Time:                        12:05:23   BIC                            846.078\n",
      "Sample:                    06-30-1970   HQIC                           830.295\n",
      "                         - 12-31-2020                                         \n",
      "Covariance Type:                  opg                                         \n",
      "==============================================================================\n",
      "                 coef    std err          z      P>|z|      [0.025      0.975]\n",
      "------------------------------------------------------------------------------\n",
      "const          0.5987      0.089      6.705      0.000       0.424       0.774\n",
      "ar.L1          1.2760      0.165      7.749      0.000       0.953       1.599\n",
      "ar.L2         -0.2944      0.124     -2.371      0.018      -0.538      -0.051\n",
      "ma.L1          0.1810      0.838      0.216      0.829      -1.462       1.824\n",
      "ma.L2         -1.8115      0.730     -2.482      0.013      -3.242      -0.381\n",
      "ma.L3         -0.1797      0.827     -0.217      0.828      -1.801       1.442\n",
      "ma.L4          0.8134      0.711      1.144      0.253      -0.581       2.208\n",
      "sigma2         2.8109      2.471      1.138      0.255      -2.032       7.654\n",
      "===================================================================================\n",
      "Ljung-Box (L1) (Q):                   0.35   Jarque-Bera (JB):                 2.06\n",
      "Prob(Q):                              0.55   Prob(JB):                         0.36\n",
      "Heteroskedasticity (H):               0.75   Skew:                            -0.20\n",
      "Prob(H) (two-sided):                  0.24   Kurtosis:                         3.28\n",
      "===================================================================================\n",
      "\n",
      "Warnings:\n",
      "[1] Covariance matrix calculated using the outer product of gradients (complex-step).\n"
     ]
    },
    {
     "data": {
      "image/png": "[encoded data removed]",
      "text/plain": [
       "Text(0, 0.5, 'ACF')"
      ]
     },
     "metadata": {
      "image/png": {}
     },
     "output_type": "display_data"
    }
   ],
   "source": [
    "# ARIMA(2,0,4)\n",
    "\n",
    "ARIMA2_0_4 = ARIMA(series, order=(2,0,4), trend='c')\n",
    "model_fit = ARIMA2_0_4.fit()\n",
    "\n",
    "# Summary of fit model\n",
    "print(model_fit.summary())\n",
    "\n",
    "# Line plot of residuals\n",
    "residuals = pd.DataFrame(model_fit.resid)\n",
    "residuals.plot(legend=None, figsize=(10,7.5))\n",
    "plt.show()\n",
    "\n",
    "# ACF and PACF of residuals\n",
    "with plt.style.context('seaborn-whitegrid'):\n",
    "    fig, axs = plt.subplots(2, figsize=(7.5,5), sharex='all',)\n",
    "plot_pacf(model_fit.resid, lags=30, ax=axs[1], alpha=None, zero=False, title=None)\n",
    "plot_acf(model_fit.resid, lags=30, ax=axs[0], alpha=None, zero=False, title=None)\n",
    "for a in axs:\n",
    "    a.set_ylim(-0.3, 0.3)\n",
    "    a.set_xticks([0, 5, 10, 15, 20, 25, 30])\n",
    "    a.tick_params(axis='both', which='major', labelsize=12)\n",
    "    a.grid(False)\n",
    "    a.tick_params(axis='both', labelrotation = 90, colors=\"black\")\n",
    "    a.yaxis.label.set_color('black')\n",
    "    # \"Confidence intervals\" computed as done in EViews\n",
    "    a.axhline(y=-1.96/np.sqrt(len(model_fit.resid)),linestyle='--',color='black')\n",
    "    a.axhline(y=1.96/np.sqrt(len(model_fit.resid)),linestyle='--',color='black')\n",
    "\n",
    "\n",
    "axs[0].set_ylabel(\"PACF\", fontdict = {'fontsize': 16})\n",
    "axs[1].set_ylabel(\"ACF\", fontdict = {'fontsize': 16})\n",
    "\n",
    "\n",
    "# print(f\"Sum of squared residuals {sum(model_fit.resid ** 2)}\")"
   ]
  },
  {
   "cell_type": "code",
   "execution_count": 15,
   "metadata": {
    "datalore": {
     "sheet_delimiter": false,
     "type": "CODE"
    },
    "jupyter": {
     "outputs_hidden": false,
     "source_hidden": false
    }
   },
   "outputs": [
    {
     "name": "stdout",
     "output_type": "stream",
     "text": [
      "                               SARIMAX Results                                \n",
      "==============================================================================\n",
      "Dep. Variable:                   diff   No. Observations:                  203\n",
      "Model:                 ARIMA(1, 0, 3)   Log Likelihood                -403.810\n",
      "Date:                Sun, 20 Feb 2022   AIC                            819.619\n",
      "Time:                        12:05:35   BIC                            839.499\n",
      "Sample:                    06-30-1970   HQIC                           827.662\n",
      "                         - 12-31-2020                                         \n",
      "Covariance Type:                  opg                                         \n",
      "==============================================================================\n",
      "                 coef    std err          z      P>|z|      [0.025      0.975]\n",
      "------------------------------------------------------------------------------\n",
      "const          0.6052      0.098      6.186      0.000       0.413       0.797\n",
      "ar.L1          0.3196      0.094      3.417      0.001       0.136       0.503\n",
      "ma.L1          1.1242      5.525      0.203      0.839      -9.704      11.953\n",
      "ma.L2         -0.7320      0.748     -0.978      0.328      -2.199       0.735\n",
      "ma.L3         -0.8689      4.819     -0.180      0.857     -10.314       8.577\n",
      "sigma2         2.9241     16.174      0.181      0.857     -28.777      34.625\n",
      "===================================================================================\n",
      "Ljung-Box (L1) (Q):                   0.54   Jarque-Bera (JB):                 1.63\n",
      "Prob(Q):                              0.46   Prob(JB):                         0.44\n",
      "Heteroskedasticity (H):               0.73   Skew:                            -0.20\n",
      "Prob(H) (two-sided):                  0.20   Kurtosis:                         3.18\n",
      "===================================================================================\n",
      "\n",
      "Warnings:\n",
      "[1] Covariance matrix calculated using the outer product of gradients (complex-step).\n"
     ]
    },
    {
     "data": {
      "image/png": "[encoded data removed]",
      "text/plain": [
       "Text(0, 0.5, 'ACF')"
      ]
     },
     "metadata": {
      "image/png": {}
     },
     "output_type": "display_data"
    }
   ],
   "source": [
    "# ARIMA(1,0,3)\n",
    "\n",
    "ARIMA1_0_3 = ARIMA(series, order=(1,0,3), trend='c')\n",
    "model_fit = ARIMA1_0_3.fit()\n",
    "\n",
    "# Summary of fit model\n",
    "print(model_fit.summary())\n",
    "\n",
    "# Line plot of residuals\n",
    "residuals = pd.DataFrame(model_fit.resid)\n",
    "residuals.plot(legend=None, figsize=(10,7.5))\n",
    "plt.show()\n",
    "\n",
    "# ACF and PACF of residuals\n",
    "with plt.style.context('seaborn-whitegrid'):\n",
    "    fig, axs = plt.subplots(2, figsize=(7.5,5), sharex='all',)\n",
    "plot_pacf(model_fit.resid, lags=30, ax=axs[1], alpha=None, zero=False, title=None)\n",
    "plot_acf(model_fit.resid, lags=30, ax=axs[0], alpha=None, zero=False, title=None)\n",
    "for a in axs:\n",
    "    a.set_ylim(-0.3, 0.3)\n",
    "    a.set_xticks([0, 5, 10, 15, 20, 25, 30])\n",
    "    a.tick_params(axis='both', which='major', labelsize=12)\n",
    "    a.grid(False)\n",
    "    a.tick_params(axis='both', labelrotation = 90, colors=\"black\")\n",
    "    a.yaxis.label.set_color('black')\n",
    "    # \"Confidence intervals\" computed as done in EViews\n",
    "    a.axhline(y=-1.96/np.sqrt(len(model_fit.resid)),linestyle='--',color='black')\n",
    "    a.axhline(y=1.96/np.sqrt(len(model_fit.resid)),linestyle='--',color='black')\n",
    "\n",
    "\n",
    "axs[0].set_ylabel(\"PACF\", fontdict = {'fontsize': 16})\n",
    "axs[1].set_ylabel(\"ACF\", fontdict = {'fontsize': 16})\n",
    "\n",
    "\n",
    "# print(f\"Sum of squared residuals {sum(model_fit.resid ** 2)}\")"
   ]
  },
  {
   "cell_type": "code",
   "execution_count": 17,
   "metadata": {
    "datalore": {
     "sheet_delimiter": false,
     "type": "CODE"
    },
    "jupyter": {
     "outputs_hidden": false,
     "source_hidden": false
    }
   },
   "outputs": [
    {
     "name": "stdout",
     "output_type": "stream",
     "text": [
      "0\n",
      "1\n",
      "2\n",
      "3\n",
      "4\n",
      "5\n",
      "6\n",
      "7\n",
      "8\n",
      "9\n",
      "10\n"
     ]
    },
    {
     "data": {
      "text/html": []
     },
     "metadata": {},
     "output_type": "display_data"
    }
   ],
   "source": [
    "# Grid search over AIC\n",
    "mat_aic = np.empty((11,11))\n",
    "\n",
    "for p in range(0, 11):\n",
    "    print(p)\n",
    "    for q in range(0, 11):\n",
    "        model = ARIMA(series, order=(p,0,q), trend='c')\n",
    "        model_fit = model.fit()\n",
    "        mat_aic[p][q] = model_fit.aic\n",
    "\n",
    "mat_aic\n",
    "# print(np.min(np.min(mat_aic, axis=0)))"
   ]
  },
  {
   "cell_type": "code",
   "execution_count": 18,
   "metadata": {
    "datalore": {
     "sheet_delimiter": false,
     "type": "CODE"
    },
    "jupyter": {
     "outputs_hidden": false,
     "source_hidden": false
    }
   },
   "outputs": [
    {
     "data": {
      "text/html": [
       "<div>\n",
       "<style scoped>\n",
       "    .dataframe tbody tr th:only-of-type {\n",
       "        vertical-align: middle;\n",
       "    }\n",
       "\n",
       "    .dataframe tbody tr th {\n",
       "        vertical-align: top;\n",
       "    }\n",
       "\n",
       "    .dataframe thead th {\n",
       "        text-align: right;\n",
       "    }\n",
       "</style>\n",
       "<table border=\"1\" class=\"dataframe\">\n",
       "  <thead>\n",
       "    <tr style=\"text-align: right;\">\n",
       "      <th></th>\n",
       "      <th>0</th>\n",
       "      <th>1</th>\n",
       "      <th>2</th>\n",
       "      <th>3</th>\n",
       "      <th>4</th>\n",
       "      <th>5</th>\n",
       "      <th>6</th>\n",
       "      <th>7</th>\n",
       "      <th>8</th>\n",
       "      <th>9</th>\n",
       "      <th>10</th>\n",
       "    </tr>\n",
       "  </thead>\n",
       "  <tbody>\n",
       "    <tr>\n",
       "      <th>0</th>\n",
       "      <td>1070.963904</td>\n",
       "      <td>912.097177</td>\n",
       "      <td>866.190986</td>\n",
       "      <td>826.288411</td>\n",
       "      <td>821.297344</td>\n",
       "      <td>821.564799</td>\n",
       "      <td>842.437183</td>\n",
       "      <td>824.528525</td>\n",
       "      <td>826.673050</td>\n",
       "      <td>842.325797</td>\n",
       "      <td>831.265213</td>\n",
       "    </tr>\n",
       "    <tr>\n",
       "      <th>1</th>\n",
       "      <td>1038.801944</td>\n",
       "      <td>907.749156</td>\n",
       "      <td>900.741975</td>\n",
       "      <td>819.619427</td>\n",
       "      <td>823.469128</td>\n",
       "      <td>820.132351</td>\n",
       "      <td>821.492812</td>\n",
       "      <td>822.931741</td>\n",
       "      <td>824.014477</td>\n",
       "      <td>825.963250</td>\n",
       "      <td>827.958177</td>\n",
       "    </tr>\n",
       "    <tr>\n",
       "      <th>2</th>\n",
       "      <td>956.566469</td>\n",
       "      <td>867.462518</td>\n",
       "      <td>868.520025</td>\n",
       "      <td>828.958300</td>\n",
       "      <td>819.572279</td>\n",
       "      <td>830.820613</td>\n",
       "      <td>820.770168</td>\n",
       "      <td>821.840868</td>\n",
       "      <td>823.518247</td>\n",
       "      <td>823.870566</td>\n",
       "      <td>825.790513</td>\n",
       "    </tr>\n",
       "    <tr>\n",
       "      <th>3</th>\n",
       "      <td>952.643054</td>\n",
       "      <td>869.273931</td>\n",
       "      <td>861.394491</td>\n",
       "      <td>827.689228</td>\n",
       "      <td>821.338567</td>\n",
       "      <td>820.871566</td>\n",
       "      <td>827.070314</td>\n",
       "      <td>822.258443</td>\n",
       "      <td>826.729666</td>\n",
       "      <td>828.259935</td>\n",
       "      <td>827.802003</td>\n",
       "    </tr>\n",
       "    <tr>\n",
       "      <th>4</th>\n",
       "      <td>918.578596</td>\n",
       "      <td>846.181145</td>\n",
       "      <td>827.108151</td>\n",
       "      <td>828.251410</td>\n",
       "      <td>840.569807</td>\n",
       "      <td>835.342712</td>\n",
       "      <td>823.509656</td>\n",
       "      <td>827.760700</td>\n",
       "      <td>825.413889</td>\n",
       "      <td>825.254239</td>\n",
       "      <td>828.974314</td>\n",
       "    </tr>\n",
       "    <tr>\n",
       "      <th>5</th>\n",
       "      <td>906.544029</td>\n",
       "      <td>847.641063</td>\n",
       "      <td>846.860782</td>\n",
       "      <td>825.026074</td>\n",
       "      <td>824.171455</td>\n",
       "      <td>830.248428</td>\n",
       "      <td>824.479959</td>\n",
       "      <td>827.862194</td>\n",
       "      <td>834.708133</td>\n",
       "      <td>830.964331</td>\n",
       "      <td>833.425895</td>\n",
       "    </tr>\n",
       "    <tr>\n",
       "      <th>6</th>\n",
       "      <td>896.541093</td>\n",
       "      <td>847.778224</td>\n",
       "      <td>846.506871</td>\n",
       "      <td>850.070846</td>\n",
       "      <td>826.130173</td>\n",
       "      <td>828.472948</td>\n",
       "      <td>830.267641</td>\n",
       "      <td>828.397415</td>\n",
       "      <td>829.339394</td>\n",
       "      <td>832.764439</td>\n",
       "      <td>835.336655</td>\n",
       "    </tr>\n",
       "    <tr>\n",
       "      <th>7</th>\n",
       "      <td>897.367220</td>\n",
       "      <td>849.112436</td>\n",
       "      <td>848.265338</td>\n",
       "      <td>853.198314</td>\n",
       "      <td>850.751502</td>\n",
       "      <td>829.842570</td>\n",
       "      <td>833.426769</td>\n",
       "      <td>829.619192</td>\n",
       "      <td>830.753836</td>\n",
       "      <td>831.562030</td>\n",
       "      <td>834.635234</td>\n",
       "    </tr>\n",
       "    <tr>\n",
       "      <th>8</th>\n",
       "      <td>891.216277</td>\n",
       "      <td>841.450219</td>\n",
       "      <td>846.976013</td>\n",
       "      <td>852.536504</td>\n",
       "      <td>850.068821</td>\n",
       "      <td>829.460517</td>\n",
       "      <td>841.063167</td>\n",
       "      <td>828.925929</td>\n",
       "      <td>832.678991</td>\n",
       "      <td>836.276096</td>\n",
       "      <td>832.804741</td>\n",
       "    </tr>\n",
       "    <tr>\n",
       "      <th>9</th>\n",
       "      <td>887.465873</td>\n",
       "      <td>841.279921</td>\n",
       "      <td>843.779347</td>\n",
       "      <td>825.711617</td>\n",
       "      <td>846.899601</td>\n",
       "      <td>829.712229</td>\n",
       "      <td>833.107464</td>\n",
       "      <td>833.049610</td>\n",
       "      <td>835.983508</td>\n",
       "      <td>837.310864</td>\n",
       "      <td>838.426496</td>\n",
       "    </tr>\n",
       "    <tr>\n",
       "      <th>10</th>\n",
       "      <td>880.589137</td>\n",
       "      <td>840.796897</td>\n",
       "      <td>841.024713</td>\n",
       "      <td>842.532804</td>\n",
       "      <td>849.545258</td>\n",
       "      <td>829.822263</td>\n",
       "      <td>829.467965</td>\n",
       "      <td>834.890281</td>\n",
       "      <td>834.097752</td>\n",
       "      <td>842.860710</td>\n",
       "      <td>838.009631</td>\n",
       "    </tr>\n",
       "  </tbody>\n",
       "</table>\n",
       "</div>"
      ]
     },
     "metadata": {},
     "output_type": "display_data"
    }
   ],
   "source": [
    "pd.DataFrame(mat_aic)"
   ]
  },
  {
   "cell_type": "code",
   "execution_count": 19,
   "metadata": {
    "datalore": {
     "sheet_delimiter": false,
     "type": "CODE"
    },
    "jupyter": {
     "outputs_hidden": false,
     "source_hidden": false
    }
   },
   "outputs": [
    {
     "name": "stdout",
     "output_type": "stream",
     "text": [
      "0\n",
      "1\n",
      "2\n",
      "3\n",
      "4\n",
      "5\n",
      "6\n",
      "7\n",
      "8\n",
      "9\n",
      "10\n"
     ]
    },
    {
     "data": {
      "text/html": []
     },
     "metadata": {},
     "output_type": "display_data"
    }
   ],
   "source": [
    "# Grid search over SBC\n",
    "mat_bic = np.empty((11,11))\n",
    "\n",
    "for p in range(0, 11):\n",
    "    print(p)\n",
    "    for q in range(0, 11):\n",
    "        model = ARIMA(series, order=(p,0,q), trend='c')\n",
    "        model_fit = model.fit()\n",
    "        mat_bic[p][q] = model_fit.bic\n",
    "\n",
    "mat_bic\n",
    "# print(np.min(np.min(mat_bic, axis=0)))"
   ]
  },
  {
   "cell_type": "code",
   "execution_count": 20,
   "metadata": {
    "datalore": {
     "sheet_delimiter": false,
     "type": "CODE"
    },
    "jupyter": {
     "outputs_hidden": false,
     "source_hidden": false
    }
   },
   "outputs": [
    {
     "data": {
      "text/html": [
       "<div>\n",
       "<style scoped>\n",
       "    .dataframe tbody tr th:only-of-type {\n",
       "        vertical-align: middle;\n",
       "    }\n",
       "\n",
       "    .dataframe tbody tr th {\n",
       "        vertical-align: top;\n",
       "    }\n",
       "\n",
       "    .dataframe thead th {\n",
       "        text-align: right;\n",
       "    }\n",
       "</style>\n",
       "<table border=\"1\" class=\"dataframe\">\n",
       "  <thead>\n",
       "    <tr style=\"text-align: right;\">\n",
       "      <th></th>\n",
       "      <th>0</th>\n",
       "      <th>1</th>\n",
       "      <th>2</th>\n",
       "      <th>3</th>\n",
       "      <th>4</th>\n",
       "      <th>5</th>\n",
       "      <th>6</th>\n",
       "      <th>7</th>\n",
       "      <th>8</th>\n",
       "      <th>9</th>\n",
       "      <th>10</th>\n",
       "    </tr>\n",
       "  </thead>\n",
       "  <tbody>\n",
       "    <tr>\n",
       "      <th>0</th>\n",
       "      <td>1077.590316</td>\n",
       "      <td>922.036795</td>\n",
       "      <td>879.443810</td>\n",
       "      <td>842.854441</td>\n",
       "      <td>841.176580</td>\n",
       "      <td>844.757241</td>\n",
       "      <td>868.942831</td>\n",
       "      <td>854.347379</td>\n",
       "      <td>859.805110</td>\n",
       "      <td>878.771063</td>\n",
       "      <td>871.023685</td>\n",
       "    </tr>\n",
       "    <tr>\n",
       "      <th>1</th>\n",
       "      <td>1048.741562</td>\n",
       "      <td>921.001980</td>\n",
       "      <td>917.308005</td>\n",
       "      <td>839.498662</td>\n",
       "      <td>846.661569</td>\n",
       "      <td>846.637999</td>\n",
       "      <td>851.311665</td>\n",
       "      <td>856.063800</td>\n",
       "      <td>860.459743</td>\n",
       "      <td>865.721721</td>\n",
       "      <td>871.029854</td>\n",
       "    </tr>\n",
       "    <tr>\n",
       "      <th>2</th>\n",
       "      <td>969.819293</td>\n",
       "      <td>884.028548</td>\n",
       "      <td>888.399260</td>\n",
       "      <td>852.150742</td>\n",
       "      <td>846.077927</td>\n",
       "      <td>860.639467</td>\n",
       "      <td>853.902228</td>\n",
       "      <td>858.286134</td>\n",
       "      <td>863.276719</td>\n",
       "      <td>866.942244</td>\n",
       "      <td>872.175397</td>\n",
       "    </tr>\n",
       "    <tr>\n",
       "      <th>3</th>\n",
       "      <td>969.209084</td>\n",
       "      <td>889.153167</td>\n",
       "      <td>884.586933</td>\n",
       "      <td>854.194876</td>\n",
       "      <td>851.157421</td>\n",
       "      <td>854.003626</td>\n",
       "      <td>863.515580</td>\n",
       "      <td>862.016915</td>\n",
       "      <td>869.801344</td>\n",
       "      <td>874.644819</td>\n",
       "      <td>877.500093</td>\n",
       "    </tr>\n",
       "    <tr>\n",
       "      <th>4</th>\n",
       "      <td>938.457832</td>\n",
       "      <td>869.373587</td>\n",
       "      <td>853.613799</td>\n",
       "      <td>858.070264</td>\n",
       "      <td>873.701866</td>\n",
       "      <td>871.787977</td>\n",
       "      <td>863.268128</td>\n",
       "      <td>870.832378</td>\n",
       "      <td>871.798773</td>\n",
       "      <td>874.952329</td>\n",
       "      <td>881.985609</td>\n",
       "    </tr>\n",
       "    <tr>\n",
       "      <th>5</th>\n",
       "      <td>929.736470</td>\n",
       "      <td>874.146711</td>\n",
       "      <td>876.679636</td>\n",
       "      <td>858.158134</td>\n",
       "      <td>860.616721</td>\n",
       "      <td>870.006900</td>\n",
       "      <td>867.551637</td>\n",
       "      <td>874.247078</td>\n",
       "      <td>884.406223</td>\n",
       "      <td>883.975627</td>\n",
       "      <td>889.750396</td>\n",
       "    </tr>\n",
       "    <tr>\n",
       "      <th>6</th>\n",
       "      <td>923.046741</td>\n",
       "      <td>877.597078</td>\n",
       "      <td>879.638931</td>\n",
       "      <td>886.516112</td>\n",
       "      <td>865.888644</td>\n",
       "      <td>871.544626</td>\n",
       "      <td>876.652525</td>\n",
       "      <td>878.095505</td>\n",
       "      <td>882.350689</td>\n",
       "      <td>889.088940</td>\n",
       "      <td>894.974362</td>\n",
       "    </tr>\n",
       "    <tr>\n",
       "      <th>7</th>\n",
       "      <td>927.186074</td>\n",
       "      <td>882.244495</td>\n",
       "      <td>884.710604</td>\n",
       "      <td>892.956786</td>\n",
       "      <td>893.823180</td>\n",
       "      <td>876.227453</td>\n",
       "      <td>883.124859</td>\n",
       "      <td>882.630488</td>\n",
       "      <td>887.078338</td>\n",
       "      <td>891.199737</td>\n",
       "      <td>897.586147</td>\n",
       "    </tr>\n",
       "    <tr>\n",
       "      <th>8</th>\n",
       "      <td>924.348337</td>\n",
       "      <td>877.895485</td>\n",
       "      <td>886.734485</td>\n",
       "      <td>895.608182</td>\n",
       "      <td>896.453704</td>\n",
       "      <td>879.158606</td>\n",
       "      <td>894.074462</td>\n",
       "      <td>885.250430</td>\n",
       "      <td>892.316699</td>\n",
       "      <td>899.227010</td>\n",
       "      <td>899.068861</td>\n",
       "    </tr>\n",
       "    <tr>\n",
       "      <th>9</th>\n",
       "      <td>923.911138</td>\n",
       "      <td>881.038393</td>\n",
       "      <td>886.851025</td>\n",
       "      <td>872.096501</td>\n",
       "      <td>896.597691</td>\n",
       "      <td>882.723524</td>\n",
       "      <td>889.431966</td>\n",
       "      <td>892.687317</td>\n",
       "      <td>898.934421</td>\n",
       "      <td>903.574983</td>\n",
       "      <td>908.003821</td>\n",
       "    </tr>\n",
       "    <tr>\n",
       "      <th>10</th>\n",
       "      <td>920.347609</td>\n",
       "      <td>883.868574</td>\n",
       "      <td>887.409597</td>\n",
       "      <td>892.230894</td>\n",
       "      <td>902.556554</td>\n",
       "      <td>886.146765</td>\n",
       "      <td>889.105672</td>\n",
       "      <td>897.841194</td>\n",
       "      <td>900.361872</td>\n",
       "      <td>912.438035</td>\n",
       "      <td>910.900162</td>\n",
       "    </tr>\n",
       "  </tbody>\n",
       "</table>\n",
       "</div>"
      ]
     },
     "metadata": {},
     "output_type": "display_data"
    }
   ],
   "source": [
    "pd.DataFrame(mat_bic)"
   ]
  }
 ],
 "metadata": {
  "datalore": {
   "base_environment": "default",
   "computation_mode": "JUPYTER",
   "package_manager": "pip",
   "packages": [
    {
     "name": "openpyxl",
     "source": "PIP"
    },
    {
     "name": "pmdarima",
     "source": "PIP"
    }
   ],
   "version": 1
  },
  "kernelspec": {
   "display_name": "Python 3",
   "language": "python",
   "name": "python3"
  },
  "language_info": {
   "codemirror_mode": {
    "name": "ipython",
    "version": 3
   },
   "file_extension": ".py",
   "mimetype": "text/x-python",
   "name": "python",
   "nbconvert_exporter": "python",
   "pygments_lexer": "ipython3",
   "version": "3.7.4"
  }
 },
 "nbformat": 4,
 "nbformat_minor": 4
}
